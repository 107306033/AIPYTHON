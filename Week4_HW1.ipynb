{
 "cells": [
  {
   "cell_type": "code",
   "execution_count": 18,
   "metadata": {},
   "outputs": [],
   "source": [
    "#匯入套件\n",
    "import tkinter as tk\n",
    "import math\n",
    "\n",
    "#設定視窗標題、大小、背景顏色\n",
    "window = tk.Tk()\n",
    "window.title('BMI App')\n",
    "window.geometry('300x200')\n",
    "window.configure(background='white')\n",
    "\n",
    "#BMI計算的公式即結果輸出\n",
    "def bmiCaculator():\n",
    "    height = float(height_entry.get())\n",
    "    weight = float(weight_entry.get())\n",
    "    bmiValue = round(weight / math.pow(height/100, 2), 2)\n",
    "    result = '你的BMI為{}\\n {}'.format(bmiValue, description(bmiValue))\n",
    "    result_label.configure(text=result)\n",
    "    \n",
    "#BMI相對應的敘述內容\n",
    "def description(bmiValue):\n",
    "    if bmiValue < 18.5:\n",
    "        return '體重過輕，可以大吃特吃囉！！'\n",
    "    elif bmiValue >= 18.5 and bmiValue < 24:\n",
    "        return '體重剛好，繼續保持：）'\n",
    "    elif bmiValue >= 24 :\n",
    "        return '體重過重，該節食囉ＱＱ'\n",
    "\n",
    "#建立主題標籤\n",
    "header_label = tk.Label(window, text='BMI 計算器')\n",
    "header_label.pack()\n",
    "\n",
    "#建立有關Height的框架、標籤、輸入處\n",
    "height_frame = tk.Frame(window)\n",
    "height_frame.pack(side=tk.TOP)\n",
    "height_label = tk.Label(height_frame, text='身高（cm）')\n",
    "height_label.pack(side=tk.LEFT)\n",
    "height_entry = tk.Entry(height_frame)\n",
    "height_entry.pack(side=tk.LEFT)\n",
    "\n",
    "#建立有關Weight的框架、標籤、輸入處\n",
    "weight_frame = tk.Frame(window)\n",
    "weight_frame.pack(side=tk.TOP)\n",
    "weight_label = tk.Label(weight_frame, text='體重（kg）')\n",
    "weight_label.pack(side=tk.LEFT)\n",
    "weight_entry = tk.Entry(weight_frame)\n",
    "weight_entry.pack(side=tk.LEFT)\n",
    "\n",
    "#建立執行BMI計算的按鈕\n",
    "calculate_btn = tk.Button(window, text='計算BMI', command=bmiCaculator)\n",
    "calculate_btn.pack()\n",
    "     \n",
    "#建立結果呈現標籤\n",
    "result_label = tk.Label(window)\n",
    "result_label.pack()\n",
    "\n",
    "#進入主迴圈\n",
    "window.mainloop()"
   ]
  },
  {
   "cell_type": "code",
   "execution_count": null,
   "metadata": {},
   "outputs": [],
   "source": []
  }
 ],
 "metadata": {
  "kernelspec": {
   "display_name": "Python 3",
   "language": "python",
   "name": "python3"
  },
  "language_info": {
   "codemirror_mode": {
    "name": "ipython",
    "version": 3
   },
   "file_extension": ".py",
   "mimetype": "text/x-python",
   "name": "python",
   "nbconvert_exporter": "python",
   "pygments_lexer": "ipython3",
   "version": "3.7.4"
  }
 },
 "nbformat": 4,
 "nbformat_minor": 2
}
