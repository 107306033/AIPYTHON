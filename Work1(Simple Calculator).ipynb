{
 "cells": [
  {
   "cell_type": "code",
   "execution_count": 1,
   "metadata": {},
   "outputs": [
    {
     "name": "stdout",
     "output_type": "stream",
     "text": [
      "Please input the scores(split with spaces between):10 20 30 40 \n",
      "The average score is : 25.0\n"
     ]
    }
   ],
   "source": [
    "scores = input('Please input the scores(split with spaces between):')\n",
    "scoresList = scores.split()\n",
    "total = 0\n",
    "count = 0\n",
    "for i in range(len(scoresList)):\n",
    "    score = int(scoresList[i])\n",
    "    total += score\n",
    "    count += 1\n",
    "print('The average score is :', total/count)"
   ]
  },
  {
   "cell_type": "code",
   "execution_count": null,
   "metadata": {},
   "outputs": [],
   "source": []
  }
 ],
 "metadata": {
  "kernelspec": {
   "display_name": "Python 3",
   "language": "python",
   "name": "python3"
  },
  "language_info": {
   "codemirror_mode": {
    "name": "ipython",
    "version": 3
   },
   "file_extension": ".py",
   "mimetype": "text/x-python",
   "name": "python",
   "nbconvert_exporter": "python",
   "pygments_lexer": "ipython3",
   "version": "3.7.4"
  }
 },
 "nbformat": 4,
 "nbformat_minor": 2
}
