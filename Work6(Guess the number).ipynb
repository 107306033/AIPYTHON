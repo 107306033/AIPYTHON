{
 "cells": [
  {
   "cell_type": "code",
   "execution_count": 2,
   "metadata": {},
   "outputs": [
    {
     "name": "stdout",
     "output_type": "stream",
     "text": [
      "Please guess a number between 1 and 10054\n",
      "Bigger!\n",
      "Please guess a number between 54 and 10068\n",
      "Bigger!\n",
      "Please guess a number between 68 and 10070\n",
      "Bigger!\n",
      "Please guess a number between 70 and 10089\n",
      "Bigger!\n",
      "Please guess a number between 89 and 10094\n",
      "Smaller!\n",
      "Please guess a number between 89 and 9490\n",
      "Bigger!\n",
      "Please guess a number between 90 and 9493\n",
      "Congrats! The number is 93\n"
     ]
    }
   ],
   "source": [
    "ans = randint(1,100)\n",
    "guess = 0\n",
    "a = 100\n",
    "b = 1\n",
    "while guess != ans:\n",
    "    guess = int(input(\"Please guess a number between {} and {}\".format(b,a)))\n",
    "    if(guess < ans):\n",
    "        print(\"Bigger!\")\n",
    "        b = guess\n",
    "    elif(guess > ans):\n",
    "        print(\"Smaller!\")\n",
    "        a = guess\n",
    "print(\"Congrats! The number is {}\".format(ans))"
   ]
  }
 ],
 "metadata": {
  "kernelspec": {
   "display_name": "Python 3",
   "language": "python",
   "name": "python3"
  },
  "language_info": {
   "codemirror_mode": {
    "name": "ipython",
    "version": 3
   },
   "file_extension": ".py",
   "mimetype": "text/x-python",
   "name": "python",
   "nbconvert_exporter": "python",
   "pygments_lexer": "ipython3",
   "version": "3.7.4"
  }
 },
 "nbformat": 4,
 "nbformat_minor": 2
}
