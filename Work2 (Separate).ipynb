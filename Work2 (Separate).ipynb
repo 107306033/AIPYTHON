{
 "cells": [
  {
   "cell_type": "code",
   "execution_count": 16,
   "metadata": {},
   "outputs": [
    {
     "name": "stdout",
     "output_type": "stream",
     "text": [
      "Please input names(split with spaces between, at least three names)Tom Jerry Jessica Nicole LinLin John Mary\n",
      "['Tom', 'Jerry', 'Jessica', 'Nicole', 'LinLin', 'John', 'Mary']\n",
      "How many people in a group ?8\n",
      "Invalid Input\n",
      "How many people in a group ?4\n",
      "('Tom', 'Jerry', 'Jessica', 'Nicole')\n",
      "('Tom', 'Jerry', 'Jessica', 'LinLin')\n",
      "('Tom', 'Jerry', 'Jessica', 'John')\n",
      "('Tom', 'Jerry', 'Jessica', 'Mary')\n",
      "('Tom', 'Jerry', 'Nicole', 'LinLin')\n",
      "('Tom', 'Jerry', 'Nicole', 'John')\n",
      "('Tom', 'Jerry', 'Nicole', 'Mary')\n",
      "('Tom', 'Jerry', 'LinLin', 'John')\n",
      "('Tom', 'Jerry', 'LinLin', 'Mary')\n",
      "('Tom', 'Jerry', 'John', 'Mary')\n",
      "('Tom', 'Jessica', 'Nicole', 'LinLin')\n",
      "('Tom', 'Jessica', 'Nicole', 'John')\n",
      "('Tom', 'Jessica', 'Nicole', 'Mary')\n",
      "('Tom', 'Jessica', 'LinLin', 'John')\n",
      "('Tom', 'Jessica', 'LinLin', 'Mary')\n",
      "('Tom', 'Jessica', 'John', 'Mary')\n",
      "('Tom', 'Nicole', 'LinLin', 'John')\n",
      "('Tom', 'Nicole', 'LinLin', 'Mary')\n",
      "('Tom', 'Nicole', 'John', 'Mary')\n",
      "('Tom', 'LinLin', 'John', 'Mary')\n",
      "('Jerry', 'Jessica', 'Nicole', 'LinLin')\n",
      "('Jerry', 'Jessica', 'Nicole', 'John')\n",
      "('Jerry', 'Jessica', 'Nicole', 'Mary')\n",
      "('Jerry', 'Jessica', 'LinLin', 'John')\n",
      "('Jerry', 'Jessica', 'LinLin', 'Mary')\n",
      "('Jerry', 'Jessica', 'John', 'Mary')\n",
      "('Jerry', 'Nicole', 'LinLin', 'John')\n",
      "('Jerry', 'Nicole', 'LinLin', 'Mary')\n",
      "('Jerry', 'Nicole', 'John', 'Mary')\n",
      "('Jerry', 'LinLin', 'John', 'Mary')\n",
      "('Jessica', 'Nicole', 'LinLin', 'John')\n",
      "('Jessica', 'Nicole', 'LinLin', 'Mary')\n",
      "('Jessica', 'Nicole', 'John', 'Mary')\n",
      "('Jessica', 'LinLin', 'John', 'Mary')\n",
      "('Nicole', 'LinLin', 'John', 'Mary')\n"
     ]
    }
   ],
   "source": [
    "import itertools\n",
    "names = input('Please input names(split with spaces between, at least three names)')\n",
    "nameList = names.split()\n",
    "print(nameList)\n",
    "number = 0\n",
    "while True :\n",
    "    e = input('How many people in a group ?')\n",
    "    number = int(e)\n",
    "    if number > len(nameList):\n",
    "        print('Invalid Input')\n",
    "    else:\n",
    "        break\n",
    "for i in itertools.combinations(nameList,number):\n",
    "    print(i)"
   ]
  },
  {
   "cell_type": "code",
   "execution_count": null,
   "metadata": {},
   "outputs": [],
   "source": []
  },
  {
   "cell_type": "code",
   "execution_count": null,
   "metadata": {},
   "outputs": [],
   "source": []
  },
  {
   "cell_type": "code",
   "execution_count": null,
   "metadata": {},
   "outputs": [],
   "source": []
  },
  {
   "cell_type": "code",
   "execution_count": null,
   "metadata": {},
   "outputs": [],
   "source": []
  }
 ],
 "metadata": {
  "kernelspec": {
   "display_name": "Python 3",
   "language": "python",
   "name": "python3"
  },
  "language_info": {
   "codemirror_mode": {
    "name": "ipython",
    "version": 3
   },
   "file_extension": ".py",
   "mimetype": "text/x-python",
   "name": "python",
   "nbconvert_exporter": "python",
   "pygments_lexer": "ipython3",
   "version": "3.7.4"
  }
 },
 "nbformat": 4,
 "nbformat_minor": 2
}
